{
 "cells": [
  {
   "cell_type": "markdown",
   "metadata": {},
   "source": [
    "### Installs"
   ]
  },
  {
   "cell_type": "code",
   "execution_count": null,
   "metadata": {},
   "outputs": [],
   "source": [
    "!pip install kaggle\n",
    "!pip install matplotlib\n",
    "!pip install pandas"
   ]
  },
  {
   "cell_type": "markdown",
   "metadata": {},
   "source": [
    "### Download the data"
   ]
  },
  {
   "cell_type": "code",
   "execution_count": 1,
   "metadata": {},
   "outputs": [
    {
     "name": "stdout",
     "output_type": "stream",
     "text": [
      "Downloading sample_submission.csv to /root/tensorflow-qa/data\r\n",
      "\r",
      "  0%|                                               | 0.00/18.2k [00:00<?, ?B/s]\r\n",
      "\r",
      "100%|██████████████████████████████████████| 18.2k/18.2k [00:00<00:00, 5.43MB/s]\r\n"
     ]
    }
   ],
   "source": [
    "import os\n",
    "os.environ['KAGGLE_CONFIG_DIR']='/root/tensorflow-qa/data/.kaggle'\n",
    "!chmod 600 /root/tensorflow-qa/data/.kaggle/kaggle.json\n",
    "os.chdir('/root/tensorflow-qa/data')\n",
    "!kaggle competitions download tensorflow2-question-answering -f sample_submission.csv"
   ]
  },
  {
   "cell_type": "code",
   "execution_count": 2,
   "metadata": {},
   "outputs": [
    {
     "name": "stdout",
     "output_type": "stream",
     "text": [
      "Downloading simplified-nq-train.jsonl.zip to /root/tensorflow-qa/data\n",
      "100%|█████████████████████████████████████▉| 4.46G/4.46G [02:59<00:00, 24.5MB/s]\n",
      "100%|██████████████████████████████████████| 4.46G/4.46G [02:59<00:00, 26.6MB/s]\n",
      "Downloading simplified-nq-test.jsonl.zip to /root/tensorflow-qa/data\n",
      "100%|██████████████████████████████████████| 4.78M/4.78M [00:00<00:00, 25.9MB/s]\n",
      "100%|██████████████████████████████████████| 4.78M/4.78M [00:00<00:00, 25.8MB/s]\n"
     ]
    }
   ],
   "source": [
    "!kaggle competitions download tensorflow2-question-answering -f simplified-nq-train.jsonl\n",
    "!kaggle competitions download tensorflow2-question-answering -f simplified-nq-test.jsonl"
   ]
  },
  {
   "cell_type": "markdown",
   "metadata": {},
   "source": [
    "### Imports"
   ]
  },
  {
   "cell_type": "code",
   "execution_count": 3,
   "metadata": {},
   "outputs": [],
   "source": [
    "import numpy as np\n",
    "import pandas as pd"
   ]
  },
  {
   "cell_type": "code",
   "execution_count": null,
   "metadata": {},
   "outputs": [],
   "source": [
    "path = '/kaggle/input/tensorflow2-question-answering/'\n",
    "train_path = 'simplified-nq-train.jsonl'\n",
    "test_path = 'simplified-nq-test.jsonl'\n",
    "sample_submission_path = 'sample_submission.csv'\n",
    "\n",
    "def read_data(path, sample = True, chunksize = 30000):\n",
    "    if sample == True:\n",
    "        df = []\n",
    "        with open(path, 'rt') as reader:\n",
    "            for i in range(chunksize):\n",
    "                df.append(json.loads(reader.readline()))\n",
    "        df = pd.DataFrame(df)\n",
    "        print('Our sampled dataset have {} rows and {} columns'.format(df.shape[0], df.shape[1]))\n",
    "    else:\n",
    "        df = pd.read_json(path, orient = 'records', lines = True)\n",
    "        print('Our dataset have {} rows and {} columns'.format(df.shape[0], df.shape[1]))\n",
    "        gc.collect()\n",
    "    return df\n",
    "\n",
    "train = read_data(path+train_path, sample = True)\n",
    "test = read_data(path+test_path, sample = False)\n",
    "train.head()"
   ]
  }
 ],
 "metadata": {
  "kernelspec": {
   "display_name": "Python 3",
   "language": "python",
   "name": "python3"
  },
  "language_info": {
   "codemirror_mode": {
    "name": "ipython",
    "version": 3
   },
   "file_extension": ".py",
   "mimetype": "text/x-python",
   "name": "python",
   "nbconvert_exporter": "python",
   "pygments_lexer": "ipython3",
   "version": "3.6.8"
  }
 },
 "nbformat": 4,
 "nbformat_minor": 2
}
