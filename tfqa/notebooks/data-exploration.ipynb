{
 "cells": [
  {
   "cell_type": "markdown",
   "metadata": {},
   "source": [
    "### Installs"
   ]
  },
  {
   "cell_type": "code",
   "execution_count": null,
   "metadata": {},
   "outputs": [],
   "source": [
    "!sudo pip install kaggle"
   ]
  },
  {
   "cell_type": "markdown",
   "metadata": {},
   "source": [
    "### Download the data"
   ]
  },
  {
   "cell_type": "code",
   "execution_count": 6,
   "metadata": {},
   "outputs": [
    {
     "name": "stdout",
     "output_type": "stream",
     "text": [
      "Downloading sample_submission.csv to /home/jupyter/kaggle-competitions/tfqa/data\n",
      "  0%|                                               | 0.00/18.2k [00:00<?, ?B/s]\n",
      "100%|██████████████████████████████████████| 18.2k/18.2k [00:00<00:00, 13.0MB/s]\n"
     ]
    }
   ],
   "source": [
    "import os\n",
    "os.environ['KAGGLE_CONFIG_DIR']='/home/jupyter/kaggle-competitions/tfqa/config/.kaggle'\n",
    "!chmod 600 $KAGGLE_CONFIG_DIR/kaggle.json\n",
    "os.chdir('/home/jupyter/kaggle-competitions/tfqa/data')\n",
    "!kaggle competitions download tensorflow2-question-answering -f sample_submission.csv"
   ]
  },
  {
   "cell_type": "code",
   "execution_count": 7,
   "metadata": {},
   "outputs": [
    {
     "name": "stdout",
     "output_type": "stream",
     "text": [
      "Downloading simplified-nq-train.jsonl.zip to /home/jupyter/kaggle-competitions/tfqa/data\n",
      "100%|█████████████████████████████████████▉| 4.46G/4.46G [00:21<00:00, 70.7MB/s]\n",
      "100%|███████████████████████████████████████| 4.46G/4.46G [00:21<00:00, 222MB/s]\n",
      "Downloading simplified-nq-test.jsonl.zip to /home/jupyter/kaggle-competitions/tfqa/data\n",
      "  0%|                                               | 0.00/4.78M [00:00<?, ?B/s]\n",
      "100%|███████████████████████████████████████| 4.78M/4.78M [00:00<00:00, 240MB/s]\n"
     ]
    }
   ],
   "source": [
    "!kaggle competitions download tensorflow2-question-answering -f simplified-nq-train.jsonl\n",
    "!kaggle competitions download tensorflow2-question-answering -f simplified-nq-test.jsonl"
   ]
  },
  {
   "cell_type": "code",
   "execution_count": 11,
   "metadata": {},
   "outputs": [
    {
     "name": "stdout",
     "output_type": "stream",
     "text": [
      "Archive:  simplified-nq-train.jsonl.zip\n",
      "  inflating: simplified-nq-train.jsonl  \n",
      "Archive:  simplified-nq-test.jsonl.zip\n",
      "  inflating: simplified-nq-test.jsonl  \n"
     ]
    }
   ],
   "source": [
    "!unzip simplified-nq-train.jsonl\n",
    "!unzip simplified-nq-test.jsonl"
   ]
  },
  {
   "cell_type": "markdown",
   "metadata": {},
   "source": [
    "### Imports"
   ]
  },
  {
   "cell_type": "code",
   "execution_count": null,
   "metadata": {},
   "outputs": [],
   "source": [
    "import numpy as np\n",
    "import pandas as pd"
   ]
  },
  {
   "cell_type": "code",
   "execution_count": null,
   "metadata": {},
   "outputs": [],
   "source": [
    "path = '/home/jupyter/kaggle-competitions/tfqa/data/'\n",
    "train_path = 'simplified-nq-train.jsonl'\n",
    "test_path = 'simplified-nq-test.jsonl'\n",
    "sample_submission_path = 'sample_submission.csv'\n",
    "\n",
    "def read_data(path, sample = True, chunksize = 30000):\n",
    "    if sample == True:\n",
    "        df = []\n",
    "        with open(path, 'rt') as reader:\n",
    "            for i in range(chunksize):\n",
    "                df.append(json.loads(reader.readline()))\n",
    "        df = pd.DataFrame(df)\n",
    "        print('Our sampled dataset have {} rows and {} columns'.format(df.shape[0], df.shape[1]))\n",
    "    else:\n",
    "        df = pd.read_json(path, orient = 'records', lines = True)\n",
    "        print('Our dataset have {} rows and {} columns'.format(df.shape[0], df.shape[1]))\n",
    "        gc.collect()\n",
    "    return df\n",
    "\n",
    "train = read_data(path+train_path, sample = True)\n",
    "test = read_data(path+test_path, sample = False)\n",
    "train.head()"
   ]
  },
  {
   "cell_type": "code",
   "execution_count": null,
   "metadata": {},
   "outputs": [],
   "source": []
  }
 ],
 "metadata": {
  "kernelspec": {
   "display_name": "Python 3",
   "language": "python",
   "name": "python3"
  },
  "language_info": {
   "codemirror_mode": {
    "name": "ipython",
    "version": 3
   },
   "file_extension": ".py",
   "mimetype": "text/x-python",
   "name": "python",
   "nbconvert_exporter": "python",
   "pygments_lexer": "ipython3",
   "version": "3.5.3"
  }
 },
 "nbformat": 4,
 "nbformat_minor": 4
}
