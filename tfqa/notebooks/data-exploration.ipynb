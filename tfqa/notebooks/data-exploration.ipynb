{
 "cells": [
  {
   "cell_type": "markdown",
   "metadata": {},
   "source": [
    "### Installs"
   ]
  },
  {
   "cell_type": "code",
   "execution_count": 3,
   "metadata": {},
   "outputs": [
    {
     "name": "stdout",
     "output_type": "stream",
     "text": [
      "Requirement already satisfied: plotly in /usr/local/lib/python3.5/dist-packages (4.2.1)\n",
      "Requirement already satisfied: six in /usr/local/lib/python3.5/dist-packages (from plotly) (1.13.0)\n",
      "Requirement already satisfied: retrying>=1.3.3 in /usr/local/lib/python3.5/dist-packages (from plotly) (1.3.3)\n",
      "Requirement already satisfied: lightgbm in /usr/local/lib/python3.5/dist-packages (2.3.0)\n",
      "Requirement already satisfied: scikit-learn in /usr/local/lib/python3.5/site-packages (from lightgbm) (0.19.2)\n",
      "Requirement already satisfied: scipy in /usr/local/lib/python3.5/site-packages (from lightgbm) (1.1.0)\n",
      "Requirement already satisfied: numpy in /usr/local/lib/python3.5/site-packages (from lightgbm) (1.15.1)\n",
      "Requirement already satisfied: pydaal in /usr/local/lib/python3.5/dist-packages (from scikit-learn->lightgbm) (2019.0.0.20180713)\n",
      "Requirement already satisfied: intel-scipy in /usr/local/lib/python3.5/dist-packages (from scikit-learn->lightgbm) (1.1.0)\n",
      "Requirement already satisfied: intel-numpy in /usr/local/lib/python3.5/dist-packages (from scipy->lightgbm) (1.15.1)\n",
      "Requirement already satisfied: icc-rt in /usr/local/lib/python3.5/dist-packages (from numpy->lightgbm) (2020.0.133)\n",
      "Requirement already satisfied: tbb4py in /usr/local/lib/python3.5/dist-packages (from numpy->lightgbm) (2019.0)\n",
      "Requirement already satisfied: mkl in /usr/local/lib/python3.5/dist-packages (from numpy->lightgbm) (2019.0)\n",
      "Requirement already satisfied: mkl-fft in /usr/local/lib/python3.5/dist-packages (from numpy->lightgbm) (1.0.6)\n",
      "Requirement already satisfied: mkl-random in /usr/local/lib/python3.5/dist-packages (from numpy->lightgbm) (1.0.1.1)\n",
      "Requirement already satisfied: daal==2019.* in /usr/local/lib/python3.5/dist-packages (from pydaal->scikit-learn->lightgbm) (2019.0)\n",
      "Requirement already satisfied: intel-openmp==2020.* in /usr/local/lib/python3.5/dist-packages (from icc-rt->numpy->lightgbm) (2020.0.133)\n",
      "Requirement already satisfied: tbb==2019.* in /usr/local/lib/python3.5/dist-packages (from tbb4py->numpy->lightgbm) (2019.0)\n",
      "Requirement already satisfied: bokeh in /usr/local/lib/python3.5/dist-packages (1.4.0)\n",
      "Requirement already satisfied: packaging>=16.8 in /usr/local/lib/python3.5/dist-packages (from bokeh) (19.2)\n",
      "Requirement already satisfied: numpy>=1.7.1 in /usr/local/lib/python3.5/site-packages (from bokeh) (1.15.1)\n",
      "Requirement already satisfied: PyYAML>=3.10 in /usr/local/lib/python3.5/dist-packages (from bokeh) (5.1.2)\n",
      "Requirement already satisfied: Jinja2>=2.7 in /usr/local/lib/python3.5/dist-packages (from bokeh) (2.10.3)\n",
      "Requirement already satisfied: six>=1.5.2 in /usr/local/lib/python3.5/dist-packages (from bokeh) (1.13.0)\n",
      "Requirement already satisfied: pillow>=4.0 in /usr/local/lib/python3.5/dist-packages (from bokeh) (6.2.1)\n",
      "Requirement already satisfied: tornado>=4.3 in /usr/local/lib/python3.5/dist-packages (from bokeh) (5.1.1)\n",
      "Requirement already satisfied: python-dateutil>=2.1 in /usr/local/lib/python3.5/dist-packages (from bokeh) (2.8.1)\n",
      "Requirement already satisfied: pyparsing>=2.0.2 in /usr/local/lib/python3.5/dist-packages (from packaging>=16.8->bokeh) (2.4.5)\n",
      "Requirement already satisfied: icc-rt in /usr/local/lib/python3.5/dist-packages (from numpy>=1.7.1->bokeh) (2020.0.133)\n",
      "Requirement already satisfied: tbb4py in /usr/local/lib/python3.5/dist-packages (from numpy>=1.7.1->bokeh) (2019.0)\n",
      "Requirement already satisfied: mkl-fft in /usr/local/lib/python3.5/dist-packages (from numpy>=1.7.1->bokeh) (1.0.6)\n",
      "Requirement already satisfied: mkl in /usr/local/lib/python3.5/dist-packages (from numpy>=1.7.1->bokeh) (2019.0)\n",
      "Requirement already satisfied: mkl-random in /usr/local/lib/python3.5/dist-packages (from numpy>=1.7.1->bokeh) (1.0.1.1)\n",
      "Requirement already satisfied: MarkupSafe>=0.23 in /usr/local/lib/python3.5/dist-packages (from Jinja2>=2.7->bokeh) (1.1.1)\n",
      "Requirement already satisfied: intel-openmp==2020.* in /usr/local/lib/python3.5/dist-packages (from icc-rt->numpy>=1.7.1->bokeh) (2020.0.133)\n",
      "Requirement already satisfied: tbb==2019.* in /usr/local/lib/python3.5/dist-packages (from tbb4py->numpy>=1.7.1->bokeh) (2019.0)\n",
      "Requirement already satisfied: intel-numpy in /usr/local/lib/python3.5/dist-packages (from mkl-fft->numpy>=1.7.1->bokeh) (1.15.1)\n",
      "Requirement already satisfied: kaggle in /usr/local/lib/python3.5/dist-packages (1.5.6)\n",
      "Requirement already satisfied: tqdm in /usr/local/lib/python3.5/dist-packages (from kaggle) (4.38.0)\n",
      "Requirement already satisfied: certifi in /usr/local/lib/python3.5/dist-packages (from kaggle) (2019.9.11)\n",
      "Requirement already satisfied: requests in /usr/local/lib/python3.5/dist-packages (from kaggle) (2.22.0)\n",
      "Requirement already satisfied: six>=1.10 in /usr/local/lib/python3.5/dist-packages (from kaggle) (1.13.0)\n",
      "Requirement already satisfied: python-slugify in /usr/local/lib/python3.5/dist-packages (from kaggle) (4.0.0)\n",
      "Requirement already satisfied: python-dateutil in /usr/local/lib/python3.5/dist-packages (from kaggle) (2.8.1)\n",
      "Requirement already satisfied: urllib3<1.25,>=1.21.1 in /usr/local/lib/python3.5/dist-packages (from kaggle) (1.24.2)\n",
      "Requirement already satisfied: idna<2.9,>=2.5 in /usr/local/lib/python3.5/dist-packages (from requests->kaggle) (2.8)\n",
      "Requirement already satisfied: chardet<3.1.0,>=3.0.2 in /usr/local/lib/python3.5/dist-packages (from requests->kaggle) (3.0.4)\n",
      "Requirement already satisfied: text-unidecode>=1.3 in /usr/local/lib/python3.5/dist-packages (from python-slugify->kaggle) (1.3)\n"
     ]
    }
   ],
   "source": [
    "!sudo pip install plotly\n",
    "!sudo pip install lightgbm\n",
    "!sudo pip install bokeh\n",
    "!sudo pip install kaggle"
   ]
  },
  {
   "cell_type": "markdown",
   "metadata": {},
   "source": [
    "### Download the data"
   ]
  },
  {
   "cell_type": "code",
   "execution_count": 4,
   "metadata": {},
   "outputs": [
    {
     "name": "stdout",
     "output_type": "stream",
     "text": [
      "mkdir: cannot create directory ‘/home/jupyter/kaggle-competitions/tfqa/data’: File exists\n",
      "sample_submission.csv: Skipping, found more recently modified local copy (use --force to force download)\n",
      "simplified-nq-train.jsonl.zip: Skipping, found more recently modified local copy (use --force to force download)\n",
      "simplified-nq-test.jsonl.zip: Skipping, found more recently modified local copy (use --force to force download)\n",
      "Archive:  simplified-nq-train.jsonl\n",
      "  End-of-central-directory signature not found.  Either this file is not\n",
      "  a zipfile, or it constitutes one disk of a multi-part archive.  In the\n",
      "  latter case the central directory and zipfile comment will be found on\n",
      "  the last disk(s) of this archive.\n",
      "Archive:  simplified-nq-train.jsonl.zip\n",
      "replace simplified-nq-train.jsonl? [y]es, [n]o, [A]ll, [N]one, [r]ename: ^C\n",
      "Archive:  simplified-nq-test.jsonl\n",
      "  End-of-central-directory signature not found.  Either this file is not\n",
      "  a zipfile, or it constitutes one disk of a multi-part archive.  In the\n",
      "  latter case the central directory and zipfile comment will be found on\n",
      "  the last disk(s) of this archive.\n",
      "Archive:  simplified-nq-test.jsonl.zip\n",
      "replace simplified-nq-test.jsonl? [y]es, [n]o, [A]ll, [N]one, [r]ename: ^C\n"
     ]
    }
   ],
   "source": [
    "import os\n",
    "os.environ['KAGGLE_CONFIG_DIR']='/home/jupyter/kaggle-competitions/tfqa/config/.kaggle'\n",
    "!chmod 600 $KAGGLE_CONFIG_DIR/kaggle.json\n",
    "! mkdir /home/jupyter/kaggle-competitions/tfqa/data\n",
    "os.chdir('/home/jupyter/kaggle-competitions/tfqa/data')\n",
    "!kaggle competitions download tensorflow2-question-answering -f sample_submission.csv\n",
    "!kaggle competitions download tensorflow2-question-answering -f simplified-nq-train.jsonl\n",
    "!kaggle competitions download tensorflow2-question-answering -f simplified-nq-test.jsonl\n",
    "!unzip simplified-nq-train.jsonl\n",
    "!unzip simplified-nq-test.jsonl"
   ]
  },
  {
   "cell_type": "markdown",
   "metadata": {},
   "source": [
    "### Imports"
   ]
  },
  {
   "cell_type": "code",
   "execution_count": 24,
   "metadata": {},
   "outputs": [
    {
     "data": {
      "text/html": [
       "        <script type=\"text/javascript\">\n",
       "        window.PlotlyConfig = {MathJaxConfig: 'local'};\n",
       "        if (window.MathJax) {MathJax.Hub.Config({SVG: {font: \"STIX-Web\"}});}\n",
       "        if (typeof require !== 'undefined') {\n",
       "        require.undef(\"plotly\");\n",
       "        requirejs.config({\n",
       "            paths: {\n",
       "                'plotly': ['https://cdn.plot.ly/plotly-latest.min']\n",
       "            }\n",
       "        });\n",
       "        require(['plotly'], function(Plotly) {\n",
       "            window._Plotly = Plotly;\n",
       "        });\n",
       "        }\n",
       "        </script>\n",
       "        "
      ]
     },
     "metadata": {},
     "output_type": "display_data"
    }
   ],
   "source": [
    "import numpy as np\n",
    "import pandas as pd\n",
    "\n",
    "import seaborn as sns\n",
    "import matplotlib.pyplot as plt\n",
    "import matplotlib.patches as patches\n",
    "\n",
    "from plotly import tools, subplots\n",
    "import plotly.offline as py\n",
    "py.init_notebook_mode(connected = True)\n",
    "import plotly.graph_objs as go\n",
    "import plotly.express as px\n",
    "\n",
    "pd.set_option('max_columns', 1000)\n",
    "\n",
    "from bokeh.models import Panel, Tabs\n",
    "from bokeh.io import output_notebook, show\n",
    "from bokeh.plotting import figure\n",
    "\n",
    "import lightgbm as lgb\n",
    "\n",
    "import plotly.figure_factory as ff\n",
    "import gc\n",
    "\n",
    "from sklearn.model_selection import KFold\n",
    "from sklearn.preprocessing import LabelEncoder\n",
    "\n",
    "import json\n",
    "\n",
    "from keras.preprocessing import text, sequence\n",
    "from sklearn.feature_extraction.text import CountVectorizer"
   ]
  },
  {
   "cell_type": "code",
   "execution_count": 25,
   "metadata": {},
   "outputs": [
    {
     "name": "stdout",
     "output_type": "stream",
     "text": [
      "Our sampled dataset have 30000 rows and 6 columns\n",
      "Our dataset have 346 rows and 4 columns\n"
     ]
    },
    {
     "data": {
      "text/html": [
       "<div>\n",
       "<style scoped>\n",
       "    .dataframe tbody tr th:only-of-type {\n",
       "        vertical-align: middle;\n",
       "    }\n",
       "\n",
       "    .dataframe tbody tr th {\n",
       "        vertical-align: top;\n",
       "    }\n",
       "\n",
       "    .dataframe thead th {\n",
       "        text-align: right;\n",
       "    }\n",
       "</style>\n",
       "<table border=\"1\" class=\"dataframe\">\n",
       "  <thead>\n",
       "    <tr style=\"text-align: right;\">\n",
       "      <th></th>\n",
       "      <th>annotations</th>\n",
       "      <th>document_text</th>\n",
       "      <th>document_url</th>\n",
       "      <th>example_id</th>\n",
       "      <th>long_answer_candidates</th>\n",
       "      <th>question_text</th>\n",
       "    </tr>\n",
       "  </thead>\n",
       "  <tbody>\n",
       "    <tr>\n",
       "      <th>0</th>\n",
       "      <td>[{'short_answers': [{'start_token': 1960, 'end...</td>\n",
       "      <td>Email marketing - Wikipedia &lt;H1&gt; Email marketi...</td>\n",
       "      <td>https://en.wikipedia.org//w/index.php?title=Em...</td>\n",
       "      <td>5655493461695504401</td>\n",
       "      <td>[{'start_token': 14, 'end_token': 170, 'top_le...</td>\n",
       "      <td>which is the most common use of opt-in e-mail ...</td>\n",
       "    </tr>\n",
       "    <tr>\n",
       "      <th>1</th>\n",
       "      <td>[{'short_answers': [{'start_token': 213, 'end_...</td>\n",
       "      <td>The Mother ( How I Met Your Mother ) - wikiped...</td>\n",
       "      <td>https://en.wikipedia.org//w/index.php?title=Th...</td>\n",
       "      <td>5328212470870865242</td>\n",
       "      <td>[{'start_token': 28, 'end_token': 212, 'top_le...</td>\n",
       "      <td>how i.met your mother who is the mother</td>\n",
       "    </tr>\n",
       "    <tr>\n",
       "      <th>2</th>\n",
       "      <td>[{'short_answers': [], 'annotation_id': 105271...</td>\n",
       "      <td>Human fertilization - wikipedia &lt;H1&gt; Human fer...</td>\n",
       "      <td>https://en.wikipedia.org//w/index.php?title=Hu...</td>\n",
       "      <td>4435104480114867852</td>\n",
       "      <td>[{'start_token': 14, 'end_token': 225, 'top_le...</td>\n",
       "      <td>what type of fertilisation takes place in humans</td>\n",
       "    </tr>\n",
       "    <tr>\n",
       "      <th>3</th>\n",
       "      <td>[{'short_answers': [{'start_token': 512, 'end_...</td>\n",
       "      <td>List of National Football League career quarte...</td>\n",
       "      <td>https://en.wikipedia.org//w/index.php?title=Li...</td>\n",
       "      <td>5289242154789678439</td>\n",
       "      <td>[{'start_token': 28, 'end_token': 469, 'top_le...</td>\n",
       "      <td>who had the most wins in the nfl</td>\n",
       "    </tr>\n",
       "    <tr>\n",
       "      <th>4</th>\n",
       "      <td>[{'short_answers': [], 'annotation_id': 110385...</td>\n",
       "      <td>Roanoke Colony - wikipedia &lt;H1&gt; Roanoke Colony...</td>\n",
       "      <td>https://en.wikipedia.org//w/index.php?title=Ro...</td>\n",
       "      <td>5489863933082811018</td>\n",
       "      <td>[{'start_token': 32, 'end_token': 88, 'top_lev...</td>\n",
       "      <td>what happened to the lost settlement of roanoke</td>\n",
       "    </tr>\n",
       "  </tbody>\n",
       "</table>\n",
       "</div>"
      ],
      "text/plain": [
       "                                         annotations  \\\n",
       "0  [{'short_answers': [{'start_token': 1960, 'end...   \n",
       "1  [{'short_answers': [{'start_token': 213, 'end_...   \n",
       "2  [{'short_answers': [], 'annotation_id': 105271...   \n",
       "3  [{'short_answers': [{'start_token': 512, 'end_...   \n",
       "4  [{'short_answers': [], 'annotation_id': 110385...   \n",
       "\n",
       "                                       document_text  \\\n",
       "0  Email marketing - Wikipedia <H1> Email marketi...   \n",
       "1  The Mother ( How I Met Your Mother ) - wikiped...   \n",
       "2  Human fertilization - wikipedia <H1> Human fer...   \n",
       "3  List of National Football League career quarte...   \n",
       "4  Roanoke Colony - wikipedia <H1> Roanoke Colony...   \n",
       "\n",
       "                                        document_url           example_id  \\\n",
       "0  https://en.wikipedia.org//w/index.php?title=Em...  5655493461695504401   \n",
       "1  https://en.wikipedia.org//w/index.php?title=Th...  5328212470870865242   \n",
       "2  https://en.wikipedia.org//w/index.php?title=Hu...  4435104480114867852   \n",
       "3  https://en.wikipedia.org//w/index.php?title=Li...  5289242154789678439   \n",
       "4  https://en.wikipedia.org//w/index.php?title=Ro...  5489863933082811018   \n",
       "\n",
       "                              long_answer_candidates  \\\n",
       "0  [{'start_token': 14, 'end_token': 170, 'top_le...   \n",
       "1  [{'start_token': 28, 'end_token': 212, 'top_le...   \n",
       "2  [{'start_token': 14, 'end_token': 225, 'top_le...   \n",
       "3  [{'start_token': 28, 'end_token': 469, 'top_le...   \n",
       "4  [{'start_token': 32, 'end_token': 88, 'top_lev...   \n",
       "\n",
       "                                       question_text  \n",
       "0  which is the most common use of opt-in e-mail ...  \n",
       "1            how i.met your mother who is the mother  \n",
       "2   what type of fertilisation takes place in humans  \n",
       "3                   who had the most wins in the nfl  \n",
       "4    what happened to the lost settlement of roanoke  "
      ]
     },
     "execution_count": 25,
     "metadata": {},
     "output_type": "execute_result"
    }
   ],
   "source": [
    "path = '/home/jupyter/kaggle-competitions/tfqa/data/'\n",
    "train_path = 'simplified-nq-train.jsonl'\n",
    "test_path = 'simplified-nq-test.jsonl'\n",
    "sample_submission_path = 'sample_submission.csv'\n",
    "\n",
    "def read_data(path, sample = True, chunksize = 30000):\n",
    "    if sample == True:\n",
    "        df = []\n",
    "        with open(path, 'rt') as reader:\n",
    "            for i in range(chunksize):\n",
    "                df.append(json.loads(reader.readline()))\n",
    "        df = pd.DataFrame(df)\n",
    "        print('Our sampled dataset have {} rows and {} columns'.format(df.shape[0], df.shape[1]))\n",
    "    else:\n",
    "        df = pd.read_json(path, orient = 'records', lines = True)\n",
    "        print('Our dataset have {} rows and {} columns'.format(df.shape[0], df.shape[1]))\n",
    "        gc.collect()\n",
    "    return df\n",
    "\n",
    "train = read_data(path+train_path, sample = True)\n",
    "test = read_data(path+test_path, sample = False)\n",
    "train.head()"
   ]
  },
  {
   "cell_type": "code",
   "execution_count": 26,
   "metadata": {},
   "outputs": [
    {
     "name": "stdout",
     "output_type": "stream",
     "text": [
      "Our sample submission have 692 rows\n"
     ]
    },
    {
     "data": {
      "text/html": [
       "<div>\n",
       "<style scoped>\n",
       "    .dataframe tbody tr th:only-of-type {\n",
       "        vertical-align: middle;\n",
       "    }\n",
       "\n",
       "    .dataframe tbody tr th {\n",
       "        vertical-align: top;\n",
       "    }\n",
       "\n",
       "    .dataframe thead th {\n",
       "        text-align: right;\n",
       "    }\n",
       "</style>\n",
       "<table border=\"1\" class=\"dataframe\">\n",
       "  <thead>\n",
       "    <tr style=\"text-align: right;\">\n",
       "      <th></th>\n",
       "      <th>example_id</th>\n",
       "      <th>PredictionString</th>\n",
       "    </tr>\n",
       "  </thead>\n",
       "  <tbody>\n",
       "    <tr>\n",
       "      <th>0</th>\n",
       "      <td>-1011141123527297803_long</td>\n",
       "      <td>NaN</td>\n",
       "    </tr>\n",
       "    <tr>\n",
       "      <th>1</th>\n",
       "      <td>-1011141123527297803_short</td>\n",
       "      <td>NaN</td>\n",
       "    </tr>\n",
       "    <tr>\n",
       "      <th>2</th>\n",
       "      <td>-1028916936938579349_long</td>\n",
       "      <td>NaN</td>\n",
       "    </tr>\n",
       "    <tr>\n",
       "      <th>3</th>\n",
       "      <td>-1028916936938579349_short</td>\n",
       "      <td>NaN</td>\n",
       "    </tr>\n",
       "    <tr>\n",
       "      <th>4</th>\n",
       "      <td>-1055197305756217938_long</td>\n",
       "      <td>NaN</td>\n",
       "    </tr>\n",
       "  </tbody>\n",
       "</table>\n",
       "</div>"
      ],
      "text/plain": [
       "                   example_id  PredictionString\n",
       "0   -1011141123527297803_long               NaN\n",
       "1  -1011141123527297803_short               NaN\n",
       "2   -1028916936938579349_long               NaN\n",
       "3  -1028916936938579349_short               NaN\n",
       "4   -1055197305756217938_long               NaN"
      ]
     },
     "execution_count": 26,
     "metadata": {},
     "output_type": "execute_result"
    }
   ],
   "source": [
    "sample_submission = pd.read_csv(path + sample_submission_path)\n",
    "print('Our sample submission have {} rows'.format(sample_submission.shape[0]))\n",
    "sample_submission.head()"
   ]
  },
  {
   "cell_type": "markdown",
   "metadata": {},
   "source": [
    "### Missing Values"
   ]
  },
  {
   "cell_type": "code",
   "execution_count": 27,
   "metadata": {},
   "outputs": [
    {
     "data": {
      "text/html": [
       "<div>\n",
       "<style scoped>\n",
       "    .dataframe tbody tr th:only-of-type {\n",
       "        vertical-align: middle;\n",
       "    }\n",
       "\n",
       "    .dataframe tbody tr th {\n",
       "        vertical-align: top;\n",
       "    }\n",
       "\n",
       "    .dataframe thead th {\n",
       "        text-align: right;\n",
       "    }\n",
       "</style>\n",
       "<table border=\"1\" class=\"dataframe\">\n",
       "  <thead>\n",
       "    <tr style=\"text-align: right;\">\n",
       "      <th></th>\n",
       "      <th>features</th>\n",
       "      <th>n_missing_values</th>\n",
       "    </tr>\n",
       "  </thead>\n",
       "  <tbody>\n",
       "    <tr>\n",
       "      <th>0</th>\n",
       "      <td>annotations</td>\n",
       "      <td>0</td>\n",
       "    </tr>\n",
       "    <tr>\n",
       "      <th>1</th>\n",
       "      <td>document_text</td>\n",
       "      <td>0</td>\n",
       "    </tr>\n",
       "    <tr>\n",
       "      <th>2</th>\n",
       "      <td>document_url</td>\n",
       "      <td>0</td>\n",
       "    </tr>\n",
       "    <tr>\n",
       "      <th>3</th>\n",
       "      <td>example_id</td>\n",
       "      <td>0</td>\n",
       "    </tr>\n",
       "    <tr>\n",
       "      <th>4</th>\n",
       "      <td>long_answer_candidates</td>\n",
       "      <td>0</td>\n",
       "    </tr>\n",
       "    <tr>\n",
       "      <th>5</th>\n",
       "      <td>question_text</td>\n",
       "      <td>0</td>\n",
       "    </tr>\n",
       "  </tbody>\n",
       "</table>\n",
       "</div>"
      ],
      "text/plain": [
       "                 features  n_missing_values\n",
       "0             annotations                 0\n",
       "1           document_text                 0\n",
       "2            document_url                 0\n",
       "3              example_id                 0\n",
       "4  long_answer_candidates                 0\n",
       "5           question_text                 0"
      ]
     },
     "execution_count": 27,
     "metadata": {},
     "output_type": "execute_result"
    }
   ],
   "source": [
    "def missing_values(df):\n",
    "    df = pd.DataFrame(df.isnull().sum()).reset_index()\n",
    "    df.columns = ['features', 'n_missing_values']\n",
    "    return df\n",
    "missing_values(train)"
   ]
  },
  {
   "cell_type": "code",
   "execution_count": 28,
   "metadata": {},
   "outputs": [
    {
     "data": {
      "text/html": [
       "<div>\n",
       "<style scoped>\n",
       "    .dataframe tbody tr th:only-of-type {\n",
       "        vertical-align: middle;\n",
       "    }\n",
       "\n",
       "    .dataframe tbody tr th {\n",
       "        vertical-align: top;\n",
       "    }\n",
       "\n",
       "    .dataframe thead th {\n",
       "        text-align: right;\n",
       "    }\n",
       "</style>\n",
       "<table border=\"1\" class=\"dataframe\">\n",
       "  <thead>\n",
       "    <tr style=\"text-align: right;\">\n",
       "      <th></th>\n",
       "      <th>features</th>\n",
       "      <th>n_missing_values</th>\n",
       "    </tr>\n",
       "  </thead>\n",
       "  <tbody>\n",
       "    <tr>\n",
       "      <th>0</th>\n",
       "      <td>document_text</td>\n",
       "      <td>0</td>\n",
       "    </tr>\n",
       "    <tr>\n",
       "      <th>1</th>\n",
       "      <td>example_id</td>\n",
       "      <td>0</td>\n",
       "    </tr>\n",
       "    <tr>\n",
       "      <th>2</th>\n",
       "      <td>long_answer_candidates</td>\n",
       "      <td>0</td>\n",
       "    </tr>\n",
       "    <tr>\n",
       "      <th>3</th>\n",
       "      <td>question_text</td>\n",
       "      <td>0</td>\n",
       "    </tr>\n",
       "  </tbody>\n",
       "</table>\n",
       "</div>"
      ],
      "text/plain": [
       "                 features  n_missing_values\n",
       "0           document_text                 0\n",
       "1              example_id                 0\n",
       "2  long_answer_candidates                 0\n",
       "3           question_text                 0"
      ]
     },
     "execution_count": 28,
     "metadata": {},
     "output_type": "execute_result"
    }
   ],
   "source": [
    "missing_values(test)"
   ]
  },
  {
   "cell_type": "code",
   "execution_count": 29,
   "metadata": {},
   "outputs": [
    {
     "data": {
      "text/plain": [
       "'which is the most common use of opt-in e-mail marketing'"
      ]
     },
     "execution_count": 29,
     "metadata": {},
     "output_type": "execute_result"
    }
   ],
   "source": [
    "question_text_0 = train.loc[0, 'question_text']\n",
    "question_text_0"
   ]
  },
  {
   "cell_type": "code",
   "execution_count": 30,
   "metadata": {},
   "outputs": [
    {
     "data": {
      "text/plain": [
       "\"Email marketing - Wikipedia <H1> Email marketing </H1> Jump to : navigation , search <Table> <Tr> <Td> </Td> <Td> ( hide ) This article has multiple issues . Please help improve it or discuss these issues on the talk page . ( Learn how and when to remove these template messages ) <Table> <Tr> <Td> </Td> <Td> This article needs additional citations for verification . Please help improve this article by adding citations to reliable sources . Unsourced material may be challenged and removed . ( September 2014 ) ( Learn how and when to remove this template message ) </Td> </Tr> </Table> <Table> <Tr> <Td> </Td> <Td> This article possibly contains original research . Please improve it by verifying the claims made and adding inline citations . Statements consisting only of original research should be removed . ( January 2015 ) ( Learn how and when to remove this template message ) </Td> </Tr> </Table> ( Learn how and when to remove this template message ) </Td> </Tr> </Table> <Table> <Tr> <Td> Part of a series on </Td> </Tr> <Tr> <Th> Internet marketing </Th> </Tr> <Tr> <Td> <Ul> <Li> Search engine optimization </Li> <Li> Local search engine optimisation </Li> <Li> Social media marketing </Li> <Li> Email marketing </Li> <Li> Referral marketing </Li> <Li> Content marketing </Li> <Li> Native advertising </Li> </Ul> </Td> </Tr> <Tr> <Th> Search engine marketing </Th> </Tr> <Tr> <Td> <Ul> <Li> Pay - per - click </Li> <Li> Cost per impression </Li> <Li> Search analytics </Li> <Li> Web analytics </Li> </Ul> </Td> </Tr> <Tr> <Th> Display advertising </Th> </Tr> <Tr> <Td> <Ul> <Li> Ad blocking </Li> <Li> Contextual advertising </Li> <Li> Behavioral targeting </Li> </Ul> </Td> </Tr> <Tr> <Th> Affiliate marketing </Th> </Tr> <Tr> <Td> <Ul> <Li> Cost per action </Li> <Li> Revenue sharing </Li> </Ul> </Td> </Tr> <Tr> <Th> Mobile advertising </Th> </Tr> <Tr> <Td> <Ul> <Li> </Li> <Li> </Li> <Li> </Li> </Ul> </Td> </Tr> </Table> <P> Email marketing is the act of sending a commercial message , typically to a group of people , using email . In its broadest sense , every email sent to a potential or current customer could be considered email marketing . It usually involves using email to send advertisements , request business , or solicit sales or donations , and is meant to build loyalty , trust , or brand awareness . Marketing emails can be sent to a purchased lead list or a current customer database . The term usually refers to sending email messages with the purpose of enhancing a merchant 's relationship with current or previous customers , encouraging customer loyalty and repeat business , acquiring new customers or convincing current customers to purchase something immediately , and sharing third - party ads . </P> <P> </P> <H2> Contents </H2> ( hide ) <Ul> <Li> 1 History </Li> <Li> 2 Types <Ul> <Li> 2.1 Transactional emails </Li> <Li> 2.2 Direct emails <Ul> <Li> 2.2. 1 Mobile email marketing </Li> </Ul> </Li> </Ul> </Li> <Li> 3 Comparison to traditional mail <Ul> <Li> 3.1 Advantages </Li> <Li> 3.2 Disadvantages </Li> </Ul> </Li> <Li> 4 Opt - in email advertising </Li> <Li> 5 Legal requirements <Ul> <Li> 5.1 Australia </Li> <Li> 5.2 Canada </Li> <Li> 5.3 European Union </Li> <Li> 5.4 United States </Li> </Ul> </Li> <Li> 6 See also </Li> <Li> 7 References </Li> </Ul> <P> </P> <H2> History </H2> <P> Email marketing has evolved rapidly alongside the technological growth of the 21st century . Prior to this growth , when emails were novelties to the majority of customers , email marketing was not as effective . In 1978 , Gary Thuerk of Digital Equipment Corporation ( DEC ) sent out the first mass email to approximately 400 potential clients via the Advanced Research Projects Agency Network ( ARPANET ) . This email resulted in $13 million worth of sales in DEC products , and highlighted the potential of marketing through mass emails . However , as email marketing developed as an effective means of direct communication , users began blocking out content from emails with filters and blocking programs . In order to effectively communicate a message through email , marketers had to develop a way of pushing content through to the end user , without being cut out by automatic filters and spam removing software . This resulted in the birth of triggered marketing emails , which are sent to specific users based on their tracked online browsing patterns . </P> <P> Historically , it has been difficult to measure the effectiveness of marketing campaigns because target markets can not be adequately defined . Email marketing carries the benefit of allowing marketers to identify returns on investment and measure and improve efficiency . Email marketing allows marketers to see feedback from users in real time\""
      ]
     },
     "execution_count": 30,
     "metadata": {},
     "output_type": "execute_result"
    }
   ],
   "source": [
    "document_text_0 = train.loc[0, 'document_text'].split()\n",
    "\" \".join(document_text_0[:800])"
   ]
  },
  {
   "cell_type": "code",
   "execution_count": 31,
   "metadata": {},
   "outputs": [
    {
     "data": {
      "text/plain": [
       "[{'end_token': 170, 'start_token': 14, 'top_level': True},\n",
       " {'end_token': 169, 'start_token': 15, 'top_level': False},\n",
       " {'end_token': 103, 'start_token': 52, 'top_level': False},\n",
       " {'end_token': 102, 'start_token': 53, 'top_level': False},\n",
       " {'end_token': 156, 'start_token': 103, 'top_level': False},\n",
       " {'end_token': 155, 'start_token': 104, 'top_level': False},\n",
       " {'end_token': 321, 'start_token': 170, 'top_level': True},\n",
       " {'end_token': 180, 'start_token': 171, 'top_level': False},\n",
       " {'end_token': 186, 'start_token': 180, 'top_level': False},\n",
       " {'end_token': 224, 'start_token': 186, 'top_level': False}]"
      ]
     },
     "execution_count": 31,
     "metadata": {},
     "output_type": "execute_result"
    }
   ],
   "source": [
    "long_answer_candidates_0 = train.loc[0, 'long_answer_candidates']\n",
    "long_answer_candidates_0[0:10]"
   ]
  },
  {
   "cell_type": "code",
   "execution_count": 32,
   "metadata": {},
   "outputs": [
    {
     "data": {
      "text/plain": [
       "{'annotation_id': 593165450220027640,\n",
       " 'long_answer': {'candidate_index': 54,\n",
       "  'end_token': 2019,\n",
       "  'start_token': 1952},\n",
       " 'short_answers': [{'end_token': 1969, 'start_token': 1960}],\n",
       " 'yes_no_answer': 'NONE'}"
      ]
     },
     "execution_count": 32,
     "metadata": {},
     "output_type": "execute_result"
    }
   ],
   "source": [
    "annotations_0 = train['annotations'][0][0]\n",
    "annotations_0"
   ]
  },
  {
   "cell_type": "code",
   "execution_count": 33,
   "metadata": {},
   "outputs": [
    {
     "name": "stdout",
     "output_type": "stream",
     "text": [
      "Our question is :  which is the most common use of opt-in e-mail marketing\n",
      "Our short answer is :  a newsletter sent to an advertising firm 's customers\n",
      "Our long answer is :  <P> A common example of permission marketing is a newsletter sent to an advertising firm 's customers . Such newsletters inform customers of upcoming events or promotions , or new products . In this type of advertising , a company that wants to send a newsletter to their customers may ask them at the point of purchase if they would like to receive the newsletter . </P>\n"
     ]
    }
   ],
   "source": [
    "print('Our question is : ', question_text_0)\n",
    "print('Our short answer is : ', \" \".join(document_text_0[annotations_0['short_answers'][0]['start_token']:annotations_0['short_answers'][0]['end_token']]))\n",
    "print('Our long answer is : ', \" \".join(document_text_0[annotations_0['long_answer']['start_token']:annotations_0['long_answer']['end_token']]))"
   ]
  },
  {
   "cell_type": "markdown",
   "metadata": {},
   "source": [
    "### Target Variable Exploration"
   ]
  },
  {
   "cell_type": "code",
   "execution_count": 34,
   "metadata": {},
   "outputs": [],
   "source": [
    "yes_no_answer = []\n",
    "for i in range(len(train)):\n",
    "    yes_no_answer.append(train['annotations'][i][0]['yes_no_answer'])\n",
    "yes_no_answer = pd.DataFrame({'yes_no_answer': yes_no_answer})"
   ]
  },
  {
   "cell_type": "code",
   "execution_count": 35,
   "metadata": {},
   "outputs": [
    {
     "data": {
      "text/plain": [
       "NONE    29609\n",
       "YES       235\n",
       "NO        156\n",
       "Name: yes_no_answer, dtype: int64"
      ]
     },
     "execution_count": 35,
     "metadata": {},
     "output_type": "execute_result"
    }
   ],
   "source": [
    "yes_no_answer['yes_no_answer'].value_counts()"
   ]
  },
  {
   "cell_type": "markdown",
   "metadata": {},
   "source": [
    "98.7% is None\n",
    "The amount of observations that are YES and NO only sum 1.3%!"
   ]
  },
  {
   "cell_type": "code",
   "execution_count": 36,
   "metadata": {},
   "outputs": [
    {
     "data": {
      "text/html": [
       "<div>\n",
       "<style scoped>\n",
       "    .dataframe tbody tr th:only-of-type {\n",
       "        vertical-align: middle;\n",
       "    }\n",
       "\n",
       "    .dataframe tbody tr th {\n",
       "        vertical-align: top;\n",
       "    }\n",
       "\n",
       "    .dataframe thead th {\n",
       "        text-align: right;\n",
       "    }\n",
       "</style>\n",
       "<table border=\"1\" class=\"dataframe\">\n",
       "  <thead>\n",
       "    <tr style=\"text-align: right;\">\n",
       "      <th></th>\n",
       "      <th>short_answer</th>\n",
       "    </tr>\n",
       "  </thead>\n",
       "  <tbody>\n",
       "    <tr>\n",
       "      <th>0</th>\n",
       "      <td>1960:1969</td>\n",
       "    </tr>\n",
       "    <tr>\n",
       "      <th>1</th>\n",
       "      <td>213:215</td>\n",
       "    </tr>\n",
       "    <tr>\n",
       "      <th>2</th>\n",
       "      <td>EMPTY</td>\n",
       "    </tr>\n",
       "    <tr>\n",
       "      <th>3</th>\n",
       "      <td>512:514</td>\n",
       "    </tr>\n",
       "    <tr>\n",
       "      <th>4</th>\n",
       "      <td>EMPTY</td>\n",
       "    </tr>\n",
       "  </tbody>\n",
       "</table>\n",
       "</div>"
      ],
      "text/plain": [
       "  short_answer\n",
       "0    1960:1969\n",
       "1      213:215\n",
       "2        EMPTY\n",
       "3      512:514\n",
       "4        EMPTY"
      ]
     },
     "execution_count": 36,
     "metadata": {},
     "output_type": "execute_result"
    }
   ],
   "source": [
    "# this function extract the short answers and fill a dataframe\n",
    "def extract_target_variable(df, short = True):\n",
    "    if short:\n",
    "        short_answer = []\n",
    "        for i in range(len(df)):\n",
    "            short = df['annotations'][i][0]['short_answers']\n",
    "            if short == []:\n",
    "                yes_no = df['annotations'][i][0]['yes_no_answer']\n",
    "                if yes_no == 'NO' or yes_no == 'YES':\n",
    "                    short_answer.append(yes_no)\n",
    "                else:\n",
    "                    short_answer.append('EMPTY')\n",
    "            else:\n",
    "                short = short[0]\n",
    "                st = short['start_token']\n",
    "                et = short['end_token']\n",
    "                start_end = \"{st}:{et}\".format(st=st, et=et)\n",
    "                short_answer.append(start_end)\n",
    "        short_answer = pd.DataFrame({'short_answer': short_answer})\n",
    "        return short_answer\n",
    "    else:\n",
    "        long_answer = []\n",
    "        for i in range(len(df)):\n",
    "            long = df['annotations'][i][0]['long_answer']\n",
    "            if long['start_token'] == -1:\n",
    "                long_answer.append('EMPTY')\n",
    "            else:\n",
    "                st = long['start_token']\n",
    "                et = long['end_token']\n",
    "                start_end = \"{st}:{et}\".format(st=st, et=et)\n",
    "                long_answer.append(start_end)\n",
    "        long_answer = pd.DataFrame({'long_answer': long_answer})\n",
    "        return long_answer\n",
    "        \n",
    "short_answer = extract_target_variable(train)\n",
    "short_answer.head()"
   ]
  },
  {
   "cell_type": "code",
   "execution_count": 37,
   "metadata": {},
   "outputs": [],
   "source": [
    "short_answer['type'] = short_answer['short_answer'].copy()\n",
    "short_answer.loc[(short_answer['short_answer']!='EMPTY') & (short_answer['short_answer']!='YES') & (short_answer['short_answer']!='NO'), 'type'] =  'TEXT'"
   ]
  },
  {
   "cell_type": "code",
   "execution_count": 38,
   "metadata": {},
   "outputs": [
    {
     "data": {
      "text/plain": [
       "EMPTY    19041\n",
       "TEXT     10568\n",
       "YES        235\n",
       "NO         156\n",
       "Name: type, dtype: int64"
      ]
     },
     "execution_count": 38,
     "metadata": {},
     "output_type": "execute_result"
    }
   ],
   "source": [
    "short_answer['type'].value_counts()"
   ]
  },
  {
   "cell_type": "code",
   "execution_count": 39,
   "metadata": {},
   "outputs": [
    {
     "data": {
      "text/html": [
       "<div>\n",
       "<style scoped>\n",
       "    .dataframe tbody tr th:only-of-type {\n",
       "        vertical-align: middle;\n",
       "    }\n",
       "\n",
       "    .dataframe tbody tr th {\n",
       "        vertical-align: top;\n",
       "    }\n",
       "\n",
       "    .dataframe thead th {\n",
       "        text-align: right;\n",
       "    }\n",
       "</style>\n",
       "<table border=\"1\" class=\"dataframe\">\n",
       "  <thead>\n",
       "    <tr style=\"text-align: right;\">\n",
       "      <th></th>\n",
       "      <th>long_answer</th>\n",
       "    </tr>\n",
       "  </thead>\n",
       "  <tbody>\n",
       "    <tr>\n",
       "      <th>0</th>\n",
       "      <td>1952:2019</td>\n",
       "    </tr>\n",
       "    <tr>\n",
       "      <th>1</th>\n",
       "      <td>212:310</td>\n",
       "    </tr>\n",
       "    <tr>\n",
       "      <th>2</th>\n",
       "      <td>319:438</td>\n",
       "    </tr>\n",
       "    <tr>\n",
       "      <th>3</th>\n",
       "      <td>509:576</td>\n",
       "    </tr>\n",
       "    <tr>\n",
       "      <th>4</th>\n",
       "      <td>EMPTY</td>\n",
       "    </tr>\n",
       "  </tbody>\n",
       "</table>\n",
       "</div>"
      ],
      "text/plain": [
       "  long_answer\n",
       "0   1952:2019\n",
       "1     212:310\n",
       "2     319:438\n",
       "3     509:576\n",
       "4       EMPTY"
      ]
     },
     "execution_count": 39,
     "metadata": {},
     "output_type": "execute_result"
    }
   ],
   "source": [
    "long_answer = extract_target_variable(train, False)\n",
    "long_answer.head()"
   ]
  },
  {
   "cell_type": "code",
   "execution_count": 40,
   "metadata": {},
   "outputs": [
    {
     "data": {
      "text/plain": [
       "EMPTY    15047\n",
       "TEXT     14953\n",
       "Name: type, dtype: int64"
      ]
     },
     "execution_count": 40,
     "metadata": {},
     "output_type": "execute_result"
    }
   ],
   "source": [
    "long_answer['type'] = long_answer['long_answer'].copy()\n",
    "long_answer.loc[(long_answer['long_answer']!='EMPTY'), 'type'] =  'TEXT'\n",
    "long_answer['type'].value_counts()"
   ]
  },
  {
   "cell_type": "markdown",
   "metadata": {},
   "source": [
    "Let's explore our question_text column which tell us the question that we want to answer with a segment of the document text\n",
    "\n",
    "Count the number of words and check distribution\n",
    "Most common words"
   ]
  },
  {
   "cell_type": "code",
   "execution_count": 41,
   "metadata": {},
   "outputs": [],
   "source": [
    "def count_word_frequency(series, top = 0, bot = 20):\n",
    "    cv = CountVectorizer()   \n",
    "    cv_fit = cv.fit_transform(series)    \n",
    "    word_list = cv.get_feature_names(); \n",
    "    count_list = cv_fit.toarray().sum(axis=0)\n",
    "    frequency = pd.DataFrame({'Word': word_list, 'Frequency': count_list})\n",
    "    frequency.sort_values(['Frequency'], ascending = False, inplace = True)\n",
    "    frequency['Percentage'] = frequency['Frequency']/frequency['Frequency'].sum()\n",
    "    frequency.drop('Frequency', inplace = True, axis = 1)\n",
    "    frequency['Percentage'] = frequency['Percentage'].round(3)\n",
    "    frequency = frequency.iloc[top:bot]\n",
    "    frequency.set_index('Word', inplace = True)\n",
    "    #bar_plot(pd.Series(frequency['Percentage']), 'Percentage', 'Question Text Word Frequency Distribution', 800, 500, 20, False)\n",
    "    return frequency\n",
    "    \n",
    "frequency = count_word_frequency(train['question_text'])"
   ]
  },
  {
   "cell_type": "code",
   "execution_count": 42,
   "metadata": {},
   "outputs": [
    {
     "data": {
      "text/html": [
       "<div>\n",
       "<style scoped>\n",
       "    .dataframe tbody tr th:only-of-type {\n",
       "        vertical-align: middle;\n",
       "    }\n",
       "\n",
       "    .dataframe tbody tr th {\n",
       "        vertical-align: top;\n",
       "    }\n",
       "\n",
       "    .dataframe thead th {\n",
       "        text-align: right;\n",
       "    }\n",
       "</style>\n",
       "<table border=\"1\" class=\"dataframe\">\n",
       "  <thead>\n",
       "    <tr style=\"text-align: right;\">\n",
       "      <th></th>\n",
       "      <th>Percentage</th>\n",
       "    </tr>\n",
       "    <tr>\n",
       "      <th>Word</th>\n",
       "      <th></th>\n",
       "    </tr>\n",
       "  </thead>\n",
       "  <tbody>\n",
       "    <tr>\n",
       "      <th>the</th>\n",
       "      <td>0.095</td>\n",
       "    </tr>\n",
       "    <tr>\n",
       "      <th>of</th>\n",
       "      <td>0.043</td>\n",
       "    </tr>\n",
       "    <tr>\n",
       "      <th>in</th>\n",
       "      <td>0.038</td>\n",
       "    </tr>\n",
       "    <tr>\n",
       "      <th>who</th>\n",
       "      <td>0.029</td>\n",
       "    </tr>\n",
       "    <tr>\n",
       "      <th>is</th>\n",
       "      <td>0.025</td>\n",
       "    </tr>\n",
       "    <tr>\n",
       "      <th>what</th>\n",
       "      <td>0.019</td>\n",
       "    </tr>\n",
       "    <tr>\n",
       "      <th>when</th>\n",
       "      <td>0.016</td>\n",
       "    </tr>\n",
       "    <tr>\n",
       "      <th>to</th>\n",
       "      <td>0.013</td>\n",
       "    </tr>\n",
       "    <tr>\n",
       "      <th>and</th>\n",
       "      <td>0.012</td>\n",
       "    </tr>\n",
       "    <tr>\n",
       "      <th>where</th>\n",
       "      <td>0.012</td>\n",
       "    </tr>\n",
       "    <tr>\n",
       "      <th>did</th>\n",
       "      <td>0.011</td>\n",
       "    </tr>\n",
       "    <tr>\n",
       "      <th>was</th>\n",
       "      <td>0.011</td>\n",
       "    </tr>\n",
       "    <tr>\n",
       "      <th>does</th>\n",
       "      <td>0.010</td>\n",
       "    </tr>\n",
       "    <tr>\n",
       "      <th>on</th>\n",
       "      <td>0.009</td>\n",
       "    </tr>\n",
       "    <tr>\n",
       "      <th>how</th>\n",
       "      <td>0.008</td>\n",
       "    </tr>\n",
       "    <tr>\n",
       "      <th>are</th>\n",
       "      <td>0.007</td>\n",
       "    </tr>\n",
       "    <tr>\n",
       "      <th>for</th>\n",
       "      <td>0.006</td>\n",
       "    </tr>\n",
       "    <tr>\n",
       "      <th>from</th>\n",
       "      <td>0.006</td>\n",
       "    </tr>\n",
       "    <tr>\n",
       "      <th>come</th>\n",
       "      <td>0.005</td>\n",
       "    </tr>\n",
       "    <tr>\n",
       "      <th>which</th>\n",
       "      <td>0.005</td>\n",
       "    </tr>\n",
       "  </tbody>\n",
       "</table>\n",
       "</div>"
      ],
      "text/plain": [
       "       Percentage\n",
       "Word             \n",
       "the         0.095\n",
       "of          0.043\n",
       "in          0.038\n",
       "who         0.029\n",
       "is          0.025\n",
       "what        0.019\n",
       "when        0.016\n",
       "to          0.013\n",
       "and         0.012\n",
       "where       0.012\n",
       "did         0.011\n",
       "was         0.011\n",
       "does        0.010\n",
       "on          0.009\n",
       "how         0.008\n",
       "are         0.007\n",
       "for         0.006\n",
       "from        0.006\n",
       "come        0.005\n",
       "which       0.005"
      ]
     },
     "execution_count": 42,
     "metadata": {},
     "output_type": "execute_result"
    }
   ],
   "source": [
    "frequency"
   ]
  },
  {
   "cell_type": "code",
   "execution_count": 43,
   "metadata": {},
   "outputs": [],
   "source": [
    "def build_train_test_long(df, train = True):\n",
    "    final_long_answer_frame = pd.DataFrame()\n",
    "    if train == True:\n",
    "        # get long answer\n",
    "        long_answer = extract_target_variable(df, False)\n",
    "        \n",
    "        # iterate over each row to get the possible answers\n",
    "        for index, row in df.iterrows():\n",
    "            start_end_tokens = []\n",
    "            questions = []\n",
    "            responds = []\n",
    "            for i in row['long_answer_candidates']:\n",
    "                start_token = i['start_token']\n",
    "                end_token = i['end_token']\n",
    "                start_end_token = str(i['start_token']) + ':' + str(i['end_token'])\n",
    "                question = row['question_text']\n",
    "                respond = \" \".join(row['document_text'].split()[start_token : end_token])\n",
    "                start_end_tokens.append(start_end_token)\n",
    "                questions.append(question)\n",
    "                responds.append(respond)\n",
    "\n",
    "            long_answer_frame = pd.DataFrame({'question': questions, 'respond': responds, 'start_end_token': start_end_tokens})\n",
    "            long_answer_frame['answer'] = long_answer.iloc[index][0]\n",
    "            long_answer_frame['target'] = long_answer_frame['start_end_token'] == long_answer_frame['answer']\n",
    "            long_answer_frame['target'] = long_answer_frame['target'].astype('int16')\n",
    "            long_answer_frame.drop(['answer'], inplace = True, axis = 1)\n",
    "            final_long_answer_frame = pd.concat([final_long_answer_frame, long_answer_frame])\n",
    "        return final_long_answer_frame\n",
    "    else:\n",
    "         # iterate over each row to get the possible answers\n",
    "        for index, row in df.iterrows():\n",
    "            start_end_tokens = []\n",
    "            questions = []\n",
    "            responds = []\n",
    "            for i in row['long_answer_candidates']:\n",
    "                start_token = i['start_token']\n",
    "                end_token = i['end_token']\n",
    "                start_end_token = str(i['start_token']) + ':' + str(i['end_token'])\n",
    "                question = row['question_text']\n",
    "                respond = \" \".join(row['document_text'].split()[start_token : end_token])\n",
    "                start_end_tokens.append(start_end_token)\n",
    "                questions.append(question)\n",
    "                responds.append(respond)\n",
    "\n",
    "            long_answer_frame = pd.DataFrame({'question': questions, 'respond': responds, 'start_end_token': start_end_tokens})\n",
    "            final_long_answer_frame = pd.concat([final_long_answer_frame, long_answer_frame])\n",
    "        return final_long_answer_frame\n",
    "        \n",
    "\n",
    "\n",
    "def build_train_test_short(df, train = True):\n",
    "    \n",
    "    final_short_answer_frame = pd.DataFrame()\n",
    "    \n",
    "    if train == True:\n",
    "        # get short answer\n",
    "        short_answer = extract_target_variable(df, True)\n",
    "\n",
    "        # iterate over each row to get the possible answer\n",
    "        for index, row in df.iterrows():\n",
    "            start_tokens = []\n",
    "            end_tokens = []\n",
    "            start_end_tokens = []\n",
    "            questions = []\n",
    "            responds = []\n",
    "            for i in row['long_answer_candidates']:\n",
    "                start_token = i['start_token']\n",
    "                end_token = i['end_token']\n",
    "                start_end_token = str(i['start_token']) + ':' + str(i['end_token'])\n",
    "                question = row['question_text']\n",
    "                respond = \" \".join(row['document_text'].split()[int(start_token) : int(end_token)])\n",
    "                start_tokens.append(start_token)\n",
    "                end_tokens.append(end_token)\n",
    "                start_end_tokens.append(start_end_token)\n",
    "                questions.append(question)\n",
    "                responds.append(respond)\n",
    "\n",
    "            short_answer_frame = pd.DataFrame({'question': questions, 'respond': responds, 'start_token': start_tokens, 'end_token': end_tokens, 'start_end_token': start_end_tokens})\n",
    "            short_answer_frame['answer'] = short_answer.iloc[index][0]\n",
    "            short_answer_frame['start_token_an'] = short_answer_frame['answer'].apply(lambda x: x.split(':')[0] if ':' in x else 0)\n",
    "            short_answer_frame['end_token_an'] = short_answer_frame['answer'].apply(lambda x: x.split(':')[1] if ':' in x else 0)\n",
    "            short_answer_frame['start_token_an'] = short_answer_frame['start_token_an'].astype(int)\n",
    "            short_answer_frame['end_token_an'] = short_answer_frame['end_token_an'].astype(int)\n",
    "            short_answer_frame['target'] = 0\n",
    "            short_answer_frame.loc[(short_answer_frame['start_token_an'] >= short_answer_frame['start_token']) & (short_answer_frame['end_token_an'] <= short_answer_frame['end_token']), 'target'] = 1\n",
    "            short_answer_frame.drop(['answer', 'start_token', 'end_token', 'start_token_an', 'end_token_an'], inplace = True, axis = 1)\n",
    "            final_short_answer_frame = pd.concat([final_short_answer_frame, short_answer_frame])\n",
    "        return final_short_answer_frame\n",
    "    else:\n",
    "        # iterate over each row to get the possible answer\n",
    "        for index, row in df.iterrows():\n",
    "            start_end_tokens = []\n",
    "            questions = []\n",
    "            responds = []\n",
    "            for i in row['long_answer_candidates']:\n",
    "                start_token = i['start_token']\n",
    "                end_token = i['end_token']\n",
    "                start_end_token = str(i['start_token']) + ':' + str(i['end_token'])\n",
    "                question = row['question_text']\n",
    "                respond = \" \".join(row['document_text'].split()[int(start_token) : int(end_token)])\n",
    "                start_end_tokens.append(start_end_token)\n",
    "                questions.append(question)\n",
    "                responds.append(respond)\n",
    "\n",
    "            short_answer_frame = pd.DataFrame({'question': questions, 'respond': responds, 'start_end_token': start_end_tokens})\n",
    "            final_short_answer_frame = pd.concat([final_short_answer_frame, short_answer_frame])\n",
    "        return final_short_answer_frame"
   ]
  },
  {
   "cell_type": "code",
   "execution_count": 44,
   "metadata": {},
   "outputs": [
    {
     "data": {
      "text/html": [
       "<div>\n",
       "<style scoped>\n",
       "    .dataframe tbody tr th:only-of-type {\n",
       "        vertical-align: middle;\n",
       "    }\n",
       "\n",
       "    .dataframe tbody tr th {\n",
       "        vertical-align: top;\n",
       "    }\n",
       "\n",
       "    .dataframe thead th {\n",
       "        text-align: right;\n",
       "    }\n",
       "</style>\n",
       "<table border=\"1\" class=\"dataframe\">\n",
       "  <thead>\n",
       "    <tr style=\"text-align: right;\">\n",
       "      <th></th>\n",
       "      <th>question</th>\n",
       "      <th>respond</th>\n",
       "      <th>start_end_token</th>\n",
       "      <th>target</th>\n",
       "    </tr>\n",
       "  </thead>\n",
       "  <tbody>\n",
       "    <tr>\n",
       "      <th>0</th>\n",
       "      <td>which is the most common use of opt-in e-mail ...</td>\n",
       "      <td>&lt;Table&gt; &lt;Tr&gt; &lt;Td&gt; &lt;/Td&gt; &lt;Td&gt; ( hide ) This art...</td>\n",
       "      <td>14:170</td>\n",
       "      <td>0</td>\n",
       "    </tr>\n",
       "    <tr>\n",
       "      <th>1</th>\n",
       "      <td>which is the most common use of opt-in e-mail ...</td>\n",
       "      <td>&lt;Tr&gt; &lt;Td&gt; &lt;/Td&gt; &lt;Td&gt; ( hide ) This article has...</td>\n",
       "      <td>15:169</td>\n",
       "      <td>0</td>\n",
       "    </tr>\n",
       "    <tr>\n",
       "      <th>2</th>\n",
       "      <td>which is the most common use of opt-in e-mail ...</td>\n",
       "      <td>&lt;Table&gt; &lt;Tr&gt; &lt;Td&gt; &lt;/Td&gt; &lt;Td&gt; This article need...</td>\n",
       "      <td>52:103</td>\n",
       "      <td>0</td>\n",
       "    </tr>\n",
       "    <tr>\n",
       "      <th>3</th>\n",
       "      <td>which is the most common use of opt-in e-mail ...</td>\n",
       "      <td>&lt;Tr&gt; &lt;Td&gt; &lt;/Td&gt; &lt;Td&gt; This article needs additi...</td>\n",
       "      <td>53:102</td>\n",
       "      <td>0</td>\n",
       "    </tr>\n",
       "    <tr>\n",
       "      <th>4</th>\n",
       "      <td>which is the most common use of opt-in e-mail ...</td>\n",
       "      <td>&lt;Table&gt; &lt;Tr&gt; &lt;Td&gt; &lt;/Td&gt; &lt;Td&gt; This article poss...</td>\n",
       "      <td>103:156</td>\n",
       "      <td>0</td>\n",
       "    </tr>\n",
       "  </tbody>\n",
       "</table>\n",
       "</div>"
      ],
      "text/plain": [
       "                                            question  \\\n",
       "0  which is the most common use of opt-in e-mail ...   \n",
       "1  which is the most common use of opt-in e-mail ...   \n",
       "2  which is the most common use of opt-in e-mail ...   \n",
       "3  which is the most common use of opt-in e-mail ...   \n",
       "4  which is the most common use of opt-in e-mail ...   \n",
       "\n",
       "                                             respond start_end_token  target  \n",
       "0  <Table> <Tr> <Td> </Td> <Td> ( hide ) This art...          14:170       0  \n",
       "1  <Tr> <Td> </Td> <Td> ( hide ) This article has...          15:169       0  \n",
       "2  <Table> <Tr> <Td> </Td> <Td> This article need...          52:103       0  \n",
       "3  <Tr> <Td> </Td> <Td> This article needs additi...          53:102       0  \n",
       "4  <Table> <Tr> <Td> </Td> <Td> This article poss...         103:156       0  "
      ]
     },
     "execution_count": 44,
     "metadata": {},
     "output_type": "execute_result"
    }
   ],
   "source": [
    "sh = build_train_test_long(train.head())\n",
    "sh.head()"
   ]
  },
  {
   "cell_type": "code",
   "execution_count": null,
   "metadata": {},
   "outputs": [],
   "source": []
  },
  {
   "cell_type": "code",
   "execution_count": null,
   "metadata": {},
   "outputs": [],
   "source": []
  }
 ],
 "metadata": {
  "kernelspec": {
   "display_name": "Python 3",
   "language": "python",
   "name": "python3"
  },
  "language_info": {
   "codemirror_mode": {
    "name": "ipython",
    "version": 3
   },
   "file_extension": ".py",
   "mimetype": "text/x-python",
   "name": "python",
   "nbconvert_exporter": "python",
   "pygments_lexer": "ipython3",
   "version": "3.5.3"
  }
 },
 "nbformat": 4,
 "nbformat_minor": 4
}
