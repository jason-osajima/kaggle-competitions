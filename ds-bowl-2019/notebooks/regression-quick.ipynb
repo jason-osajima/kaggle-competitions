{
 "cells": [
  {
   "cell_type": "code",
   "execution_count": 1,
   "metadata": {
    "jupyter": {
     "outputs_hidden": true
    },
    "scrolled": true
   },
   "outputs": [
    {
     "name": "stdout",
     "output_type": "stream",
     "text": [
      "Requirement already satisfied: kaggle in /usr/local/lib/python3.5/dist-packages (1.5.6)\n",
      "Requirement already satisfied: python-dateutil in /usr/local/lib/python3.5/dist-packages (from kaggle) (2.8.1)\n",
      "Requirement already satisfied: python-slugify in /usr/local/lib/python3.5/dist-packages (from kaggle) (4.0.0)\n",
      "Requirement already satisfied: urllib3<1.25,>=1.21.1 in /usr/local/lib/python3.5/dist-packages (from kaggle) (1.24.2)\n",
      "Requirement already satisfied: tqdm in /usr/local/lib/python3.5/dist-packages (from kaggle) (4.38.0)\n",
      "Requirement already satisfied: six>=1.10 in /usr/local/lib/python3.5/dist-packages (from kaggle) (1.13.0)\n",
      "Requirement already satisfied: certifi in /usr/local/lib/python3.5/dist-packages (from kaggle) (2019.9.11)\n",
      "Requirement already satisfied: requests in /usr/local/lib/python3.5/dist-packages (from kaggle) (2.22.0)\n",
      "Requirement already satisfied: text-unidecode>=1.3 in /usr/local/lib/python3.5/dist-packages (from python-slugify->kaggle) (1.3)\n",
      "Requirement already satisfied: idna<2.9,>=2.5 in /usr/local/lib/python3.5/dist-packages (from requests->kaggle) (2.8)\n",
      "Requirement already satisfied: chardet<3.1.0,>=3.0.2 in /usr/local/lib/python3.5/dist-packages (from requests->kaggle) (3.0.4)\n",
      "Requirement already satisfied: catboost in /home/jupyter/.local/lib/python3.5/site-packages (0.20.1)\n",
      "Requirement already satisfied: numpy>=1.16.0 in /home/jupyter/.local/lib/python3.5/site-packages (from catboost) (1.18.0)\n",
      "Requirement already satisfied: six in /usr/local/lib/python3.5/dist-packages (from catboost) (1.13.0)\n",
      "Requirement already satisfied: scipy in /usr/local/lib/python3.5/site-packages (from catboost) (1.1.0)\n",
      "Requirement already satisfied: pandas>=0.24.0 in /usr/local/lib/python3.5/dist-packages (from catboost) (0.25.3)\n",
      "Requirement already satisfied: matplotlib in /usr/local/lib/python3.5/dist-packages (from catboost) (3.0.3)\n",
      "Requirement already satisfied: graphviz in /home/jupyter/.local/lib/python3.5/site-packages (from catboost) (0.13.2)\n",
      "Requirement already satisfied: plotly in /usr/local/lib/python3.5/dist-packages (from catboost) (4.2.1)\n",
      "Requirement already satisfied: intel-numpy in /usr/local/lib/python3.5/dist-packages (from scipy->catboost) (1.15.1)\n",
      "Requirement already satisfied: python-dateutil>=2.6.1 in /usr/local/lib/python3.5/dist-packages (from pandas>=0.24.0->catboost) (2.8.1)\n",
      "Requirement already satisfied: pytz>=2017.2 in /usr/local/lib/python3.5/dist-packages (from pandas>=0.24.0->catboost) (2019.3)\n",
      "Requirement already satisfied: cycler>=0.10 in /usr/local/lib/python3.5/dist-packages (from matplotlib->catboost) (0.10.0)\n",
      "Requirement already satisfied: kiwisolver>=1.0.1 in /usr/local/lib/python3.5/dist-packages (from matplotlib->catboost) (1.1.0)\n",
      "Requirement already satisfied: pyparsing!=2.0.4,!=2.1.2,!=2.1.6,>=2.0.1 in /usr/local/lib/python3.5/dist-packages (from matplotlib->catboost) (2.4.5)\n",
      "Requirement already satisfied: retrying>=1.3.3 in /usr/local/lib/python3.5/dist-packages (from plotly->catboost) (1.3.3)\n",
      "Requirement already satisfied: tbb4py in /usr/local/lib/python3.5/dist-packages (from intel-numpy->scipy->catboost) (2019.0)\n",
      "Requirement already satisfied: mkl in /usr/local/lib/python3.5/dist-packages (from intel-numpy->scipy->catboost) (2019.0)\n",
      "Requirement already satisfied: mkl-fft in /usr/local/lib/python3.5/dist-packages (from intel-numpy->scipy->catboost) (1.0.6)\n",
      "Requirement already satisfied: mkl-random in /usr/local/lib/python3.5/dist-packages (from intel-numpy->scipy->catboost) (1.0.1.1)\n",
      "Requirement already satisfied: icc-rt in /usr/local/lib/python3.5/dist-packages (from intel-numpy->scipy->catboost) (2020.0.133)\n",
      "Requirement already satisfied: setuptools in /usr/local/lib/python3.5/dist-packages (from kiwisolver>=1.0.1->matplotlib->catboost) (41.6.0)\n",
      "Requirement already satisfied: tbb==2019.* in /usr/local/lib/python3.5/dist-packages (from tbb4py->intel-numpy->scipy->catboost) (2019.0)\n",
      "Requirement already satisfied: intel-openmp in /usr/local/lib/python3.5/dist-packages (from mkl->intel-numpy->scipy->catboost) (2020.0.133)\n",
      "Requirement already satisfied: xgboost in /home/jupyter/.local/lib/python3.5/site-packages (0.90)\n",
      "Requirement already satisfied: numpy in /home/jupyter/.local/lib/python3.5/site-packages (from xgboost) (1.18.0)\n",
      "Requirement already satisfied: scipy in /usr/local/lib/python3.5/site-packages (from xgboost) (1.1.0)\n",
      "Requirement already satisfied: intel-numpy in /usr/local/lib/python3.5/dist-packages (from scipy->xgboost) (1.15.1)\n",
      "Requirement already satisfied: mkl-fft in /usr/local/lib/python3.5/dist-packages (from intel-numpy->scipy->xgboost) (1.0.6)\n",
      "Requirement already satisfied: mkl in /usr/local/lib/python3.5/dist-packages (from intel-numpy->scipy->xgboost) (2019.0)\n",
      "Requirement already satisfied: icc-rt in /usr/local/lib/python3.5/dist-packages (from intel-numpy->scipy->xgboost) (2020.0.133)\n",
      "Requirement already satisfied: tbb4py in /usr/local/lib/python3.5/dist-packages (from intel-numpy->scipy->xgboost) (2019.0)\n",
      "Requirement already satisfied: mkl-random in /usr/local/lib/python3.5/dist-packages (from intel-numpy->scipy->xgboost) (1.0.1.1)\n",
      "Requirement already satisfied: intel-openmp in /usr/local/lib/python3.5/dist-packages (from mkl->intel-numpy->scipy->xgboost) (2020.0.133)\n",
      "Requirement already satisfied: tbb==2019.* in /usr/local/lib/python3.5/dist-packages (from tbb4py->intel-numpy->scipy->xgboost) (2019.0)\n",
      "Requirement already satisfied: sklearn in /home/jupyter/.local/lib/python3.5/site-packages (0.0)\n",
      "Requirement already satisfied: scikit-learn in /usr/local/lib/python3.5/site-packages (from sklearn) (0.19.2)\n",
      "Requirement already satisfied: intel-scipy in /usr/local/lib/python3.5/dist-packages (from scikit-learn->sklearn) (1.1.0)\n",
      "Requirement already satisfied: pydaal in /usr/local/lib/python3.5/dist-packages (from scikit-learn->sklearn) (2019.0.0.20180713)\n",
      "Requirement already satisfied: intel-numpy in /usr/local/lib/python3.5/dist-packages (from intel-scipy->scikit-learn->sklearn) (1.15.1)\n",
      "Requirement already satisfied: tbb4py==2019.* in /usr/local/lib/python3.5/dist-packages (from pydaal->scikit-learn->sklearn) (2019.0)\n",
      "Requirement already satisfied: daal==2019.* in /usr/local/lib/python3.5/dist-packages (from pydaal->scikit-learn->sklearn) (2019.0)\n",
      "Requirement already satisfied: icc-rt in /usr/local/lib/python3.5/dist-packages (from intel-numpy->intel-scipy->scikit-learn->sklearn) (2020.0.133)\n",
      "Requirement already satisfied: mkl-fft in /usr/local/lib/python3.5/dist-packages (from intel-numpy->intel-scipy->scikit-learn->sklearn) (1.0.6)\n",
      "Requirement already satisfied: mkl-random in /usr/local/lib/python3.5/dist-packages (from intel-numpy->intel-scipy->scikit-learn->sklearn) (1.0.1.1)\n",
      "Requirement already satisfied: mkl in /usr/local/lib/python3.5/dist-packages (from intel-numpy->intel-scipy->scikit-learn->sklearn) (2019.0)\n",
      "Requirement already satisfied: tbb==2019.* in /usr/local/lib/python3.5/dist-packages (from tbb4py==2019.*->pydaal->scikit-learn->sklearn) (2019.0)\n",
      "Requirement already satisfied: intel-openmp==2020.* in /usr/local/lib/python3.5/dist-packages (from icc-rt->intel-numpy->intel-scipy->scikit-learn->sklearn) (2020.0.133)\n"
     ]
    }
   ],
   "source": [
    "!pip install kaggle --user\n",
    "!pip install catboost --user\n",
    "!pip install xgboost --user\n",
    "!pip install sklearn --user"
   ]
  },
  {
   "cell_type": "markdown",
   "metadata": {},
   "source": [
    "### Get the Data"
   ]
  },
  {
   "cell_type": "code",
   "execution_count": 1,
   "metadata": {
    "collapsed": true,
    "jupyter": {
     "outputs_hidden": true
    }
   },
   "outputs": [
    {
     "name": "stdout",
     "output_type": "stream",
     "text": [
      "data-science-bowl-2019.zip: Skipping, found more recently modified local copy (use --force to force download)\n",
      "Archive:  data-science-bowl-2019.zip\n",
      "replace sample_submission.csv? [y]es, [n]o, [A]ll, [N]one, [r]ename: ^C\n"
     ]
    }
   ],
   "source": [
    "import os\n",
    "os.environ['KAGGLE_CONFIG_DIR']='/home/jupyter/kaggle-competitions/config/.kaggle'\n",
    "!chmod 600 $KAGGLE_CONFIG_DIR/kaggle.json\n",
    "os.chdir('/home/jupyter/kaggle-competitions/ds-bowl-2019/data')\n",
    "!kaggle competitions download -c data-science-bowl-2019\n",
    "!unzip data-science-bowl-2019.zip"
   ]
  },
  {
   "cell_type": "markdown",
   "metadata": {},
   "source": [
    "### Imports"
   ]
  },
  {
   "cell_type": "code",
   "execution_count": null,
   "metadata": {},
   "outputs": [],
   "source": [
    "import sklearn"
   ]
  },
  {
   "cell_type": "code",
   "execution_count": null,
   "metadata": {},
   "outputs": [],
   "source": [
    "from sklearn.preprocessing import StandardScaler\n",
    "from sklearn.svm import NuSVR, SVR\n",
    "from sklearn.metrics import mean_absolute_error"
   ]
  },
  {
   "cell_type": "code",
   "execution_count": null,
   "metadata": {},
   "outputs": [],
   "source": [
    "import numpy as np\n",
    "import pandas as pd\n",
    "import os\n",
    "import copy\n",
    "import matplotlib.pyplot as plt\n",
    "%matplotlib inline\n",
    "from tqdm import tqdm_notebook\n",
    "from sklearn.preprocessing import StandardScaler\n",
    "from sklearn.svm import NuSVR, SVR\n",
    "from sklearn.metrics import mean_absolute_error\n",
    "pd.options.display.precision = 15\n",
    "from collections import defaultdict\n",
    "import lightgbm as lgb\n",
    "import xgboost as xgb\n",
    "import catboost as cat\n",
    "import time\n",
    "from collections import Counter\n",
    "import datetime\n",
    "from catboost import CatBoostRegressor\n",
    "from sklearn.preprocessing import LabelEncoder\n",
    "from sklearn.model_selection import StratifiedKFold, KFold, RepeatedKFold, GroupKFold, GridSearchCV, train_test_split, TimeSeriesSplit, RepeatedStratifiedKFold\n",
    "from sklearn import metrics\n",
    "from sklearn.metrics import classification_report, confusion_matrix\n",
    "from sklearn import linear_model\n",
    "import gc\n",
    "import seaborn as sns\n",
    "import warnings\n",
    "warnings.filterwarnings(\"ignore\")\n",
    "from bayes_opt import BayesianOptimization\n",
    "import eli5\n",
    "import shap\n",
    "from IPython.display import HTML\n",
    "import json\n",
    "import altair as alt\n",
    "from category_encoders.ordinal import OrdinalEncoder\n",
    "import networkx as nx\n",
    "import matplotlib.pyplot as plt\n",
    "%matplotlib inline\n",
    "from typing import List\n",
    "\n",
    "import os\n",
    "import time\n",
    "import datetime\n",
    "import json\n",
    "import gc\n",
    "from numba import jit\n",
    "\n",
    "import numpy as np\n",
    "import pandas as pd\n",
    "\n",
    "import matplotlib.pyplot as plt\n",
    "import seaborn as sns\n",
    "from tqdm import tqdm_notebook\n",
    "\n",
    "import lightgbm as lgb\n",
    "import xgboost as xgb\n",
    "from catboost import CatBoostRegressor, CatBoostClassifier\n",
    "from sklearn import metrics\n",
    "from typing import Any\n",
    "from itertools import product\n",
    "pd.set_option('max_rows', 500)\n",
    "import re\n",
    "from tqdm import tqdm\n",
    "from joblib import Parallel, delayed"
   ]
  },
  {
   "cell_type": "code",
   "execution_count": null,
   "metadata": {},
   "outputs": [],
   "source": []
  }
 ],
 "metadata": {
  "kernelspec": {
   "display_name": "Python 3",
   "language": "python",
   "name": "python3"
  },
  "language_info": {
   "codemirror_mode": {
    "name": "ipython",
    "version": 3
   },
   "file_extension": ".py",
   "mimetype": "text/x-python",
   "name": "python",
   "nbconvert_exporter": "python",
   "pygments_lexer": "ipython3",
   "version": "3.5.3"
  }
 },
 "nbformat": 4,
 "nbformat_minor": 4
}
